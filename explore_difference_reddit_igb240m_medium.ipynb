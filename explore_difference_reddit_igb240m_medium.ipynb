{
 "cells": [
  {
   "cell_type": "code",
   "execution_count": 1,
   "metadata": {},
   "outputs": [],
   "source": [
    "import benchmark.do_partition_graph"
   ]
  },
  {
   "cell_type": "code",
   "execution_count": 2,
   "metadata": {},
   "outputs": [
    {
     "name": "stdout",
     "output_type": "stream",
     "text": [
      "using dummy feats\n",
      "{'path': '/home/kwu/IGB-datasets/igb/igbh', 'dataset_size': 'medium', 'num_classes': 19, 'load_homo_graph': 1, 'in_memory': 1, 'dummy_feats': 1, 'synthetic': 1, 'all_in_edges': True}\n",
      "Downloading /home/kwu/.dgl/reddit_self_loop.zip from https://data.dgl.ai/dataset/reddit_self_loop.zip...\n",
      "Extracting file to /home/kwu/.dgl/reddit_self_loop_5c9dfa72\n"
     ]
    }
   ],
   "source": [
    "g_igb240m_medium = benchmark.do_partition_graph.load_igb240m_medium()\n",
    "g_reddit, _ = benchmark.do_partition_graph.load_reddit()"
   ]
  },
  {
   "cell_type": "code",
   "execution_count": 3,
   "metadata": {},
   "outputs": [
    {
     "data": {
      "text/plain": [
       "Graph(num_nodes=232965, num_edges=114848857,\n",
       "      ndata_schemes={'train_mask': Scheme(shape=(), dtype=torch.bool), 'val_mask': Scheme(shape=(), dtype=torch.bool), 'test_mask': Scheme(shape=(), dtype=torch.bool), 'features': Scheme(shape=(602,), dtype=torch.float32), 'labels': Scheme(shape=(), dtype=torch.int64)}\n",
       "      edata_schemes={'__orig__': Scheme(shape=(), dtype=torch.int64)})"
      ]
     },
     "execution_count": 3,
     "metadata": {},
     "output_type": "execute_result"
    }
   ],
   "source": [
    "g_reddit"
   ]
  },
  {
   "cell_type": "code",
   "execution_count": 4,
   "metadata": {},
   "outputs": [
    {
     "data": {
      "text/plain": [
       "Graph(num_nodes=10000000, num_edges=130077694,\n",
       "      ndata_schemes={'feat': Scheme(shape=(1,), dtype=torch.float64), 'label': Scheme(shape=(), dtype=torch.int64), 'train_mask': Scheme(shape=(), dtype=torch.bool), 'val_mask': Scheme(shape=(), dtype=torch.bool), 'test_mask': Scheme(shape=(), dtype=torch.bool)}\n",
       "      edata_schemes={})"
      ]
     },
     "execution_count": 4,
     "metadata": {},
     "output_type": "execute_result"
    }
   ],
   "source": [
    "g_igb240m_medium"
   ]
  }
 ],
 "metadata": {
  "kernelspec": {
   "display_name": "dev_gids_osdi24",
   "language": "python",
   "name": "python3"
  },
  "language_info": {
   "codemirror_mode": {
    "name": "ipython",
    "version": 3
   },
   "file_extension": ".py",
   "mimetype": "text/x-python",
   "name": "python",
   "nbconvert_exporter": "python",
   "pygments_lexer": "ipython3",
   "version": "3.9.18"
  }
 },
 "nbformat": 4,
 "nbformat_minor": 2
}
